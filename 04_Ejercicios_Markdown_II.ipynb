{
 "cells": [
  {
   "cell_type": "markdown",
   "id": "c49ba49d",
   "metadata": {},
   "source": [
    "<img src=\"./img/TheBridge_logo_RGB_color.jpg\" width = 500>"
   ]
  },
  {
   "cell_type": "markdown",
   "id": "22ff8a1a",
   "metadata": {},
   "source": [
    "# EJERCICIOS MARKDOWN (II)"
   ]
  },
  {
   "cell_type": "markdown",
   "id": "d626df26",
   "metadata": {},
   "source": [
    "Aquí tienes cinco sencillos ejercicios para practicar lo aprendido en la segundasesión de Markdown. Como en el anterior, utiliza las celdas que hay debajo dec cada enunciado y recuerda convertirlas a Markdown primero ;-)\n",
    "\n",
    "Si algunos ejercicios no los entiendes de primeras, dales una vuelta, busca pistas, busca en Internet... pero todavía no le preguntes a ChatGPT... Recuerda con dudas teóricas corre a preguntar, con los ejercicios exprimete antes de preguntar."
   ]
  },
  {
   "cell_type": "markdown",
   "id": "b2efd92f",
   "metadata": {},
   "source": [
    "### Ejercicio 6: Listas\n",
    "Crea una lista no ordenada con los siguientes elementos:\n",
    "\n",
    "1. Manzanas\n",
    "2. Plátanos\n",
    "3. Uvas"
   ]
  },
  {
   "cell_type": "markdown",
   "id": "a20102cb",
   "metadata": {},
   "source": [
    "<ul>\n",
    "<li>Manzanas</li>\n",
    "<li>Plátanos</li>\n",
    "<li>Uvas</li>\n",
    "</ul>"
   ]
  },
  {
   "cell_type": "markdown",
   "id": "c8c2ff80",
   "metadata": {},
   "source": [
    "Crea ahora una lista ordenada de 1 a 3 y que además lo esté alfabéticamente con estos elementos:\n",
    "\n",
    "    * Arbol binario\n",
    "    * Random Forest\n",
    "    * Regresión Logística"
   ]
  },
  {
   "cell_type": "markdown",
   "id": "e5af15ee",
   "metadata": {},
   "source": [
    "<ol>\n",
    "<li>Arbol Binario</li>\n",
    "<li>Random Forest</li>\n",
    "<li>Regresión Logística</li>\n",
    "</ol>"
   ]
  },
  {
   "cell_type": "markdown",
   "id": "2c65c04a",
   "metadata": {},
   "source": [
    "### Ejercicio 7: Listas Anidadas\n",
    "Bajo el título \"Frutas y Verduras\", crea una lista ordenada de frutas, y dentro de esta, anida una lista no ordenada de tres frutas. Luego, crea otra lista ordenada de verduras y anida dentro de ella una lista no ordenada de tres verduras.\n",
    "\n",
    "Las listas anidadas no las hemos visto pero seguro que con esto te haces una idea, como con los subrayados en los ejercicios de la primera parte:\n",
    "1. El elemento con orden\n",
    "* Aquí sin orden\n",
    "2. El siguiente\n",
    "* Pico\n",
    "* Pala\n"
   ]
  },
  {
   "cell_type": "markdown",
   "id": "0fc171fc",
   "metadata": {},
   "source": [
    "<ol>\n",
    "<li>Frutas\n",
    "<ul>\n",
    "<li>Manzana</li>\n",
    "<li>Pera</li>\n",
    "</ul>\n",
    "</li>\n",
    "<li>Verduras\n",
    "<ul>\n",
    "<li>Cebolla</li>\n",
    "<li>Apio</li>\n",
    "</ul>\n",
    "</li>\n",
    "</ol>"
   ]
  },
  {
   "cell_type": "markdown",
   "id": "e224fbf7",
   "metadata": {},
   "source": [
    "### Ejercicio 8: Enlaces e Imágenes\n",
    "Inserta:\n",
    "\n",
    "1. Un enlace que lleve a \"www.thebridge.com\" con el texto \"Por aquí se cruzan puentes\".\n",
    "2. Una imagen de cualquier URL con el texto alternativo \"Logo\". Recuerda que puedes hacerlo referenciando la imagen a través de su ruta en tu ordenador, o bien incrustandola en el notebook\n"
   ]
  },
  {
   "cell_type": "markdown",
   "id": "2bcc0287",
   "metadata": {},
   "source": [
    "<a href=\"[www.thebridge.com](https://www.thebridge.tech/bootcamps/data-science?kw=the%20bridge&cpn=21006651326&utm_medium=ppc&utm_source=adwords&utm_campaign=ADSM_ALL_MARCA_GOOGLE_CONV_SEARCH&utm_term=the%20bridge&hsa_kw=the%20bridge&hsa_net=adwords&hsa_ver=3&hsa_cam=21006651326&hsa_ad=692242187661&hsa_acc=1272778203&hsa_src=g&hsa_grp=158138127583&hsa_mt=e&hsa_tgt=kwd-39512910&gad_source=1&gclid=CjwKCAjwrvyxBhAbEiwAEg_KgvzBhHGepmg6MZFChoGJexdN2ZQtmv_xsNhIEUULNxtZsBmjxvi9TRoCZ6sQAvD_BwE)\">Por aquí se cruzan puentes</a>\n",
    "\n",
    "<h1>Logo</h1>\n",
    "<img src=\"https://media.licdn.com/dms/image/D4D0BAQEdAnS92x4UNA/company-logo_200_200/0/1690871298705/the_bridge_digital_talent_accelerator_logo?e=2147483647&v=beta&t=KrTTjoTb8b5U1zsSKUD3whLavhb-PizIDorHI6A48HQ\" />"
   ]
  },
  {
   "cell_type": "markdown",
   "id": "94e48fe3",
   "metadata": {},
   "source": [
    "### Ejercicio 9: Líneas Horizontales y Bloques de Código\n",
    "Inserta:\n",
    "\n",
    "1. Un bloque de código en Python que imprima \"Hola Mundo\" (pista: print(\"Hola Mundo\")) entre dos líneas horizontales, cada una creada con un método diferente."
   ]
  },
  {
   "cell_type": "code",
   "execution_count": 1,
   "id": "9d31a21a",
   "metadata": {},
   "outputs": [
    {
     "name": "stdout",
     "output_type": "stream",
     "text": [
      "Hola Mundo\n",
      "Hola\n",
      "Mundo\n"
     ]
    }
   ],
   "source": [
    "print(\"Hola Mundo\")\n",
    "print(\"Hola\")\n",
    "print(\"Mundo\")"
   ]
  }
 ],
 "metadata": {
  "kernelspec": {
   "display_name": "Python 3 (ipykernel)",
   "language": "python",
   "name": "python3"
  },
  "language_info": {
   "codemirror_mode": {
    "name": "ipython",
    "version": 3
   },
   "file_extension": ".py",
   "mimetype": "text/x-python",
   "name": "python",
   "nbconvert_exporter": "python",
   "pygments_lexer": "ipython3",
   "version": "3.11.9"
  }
 },
 "nbformat": 4,
 "nbformat_minor": 5
}
